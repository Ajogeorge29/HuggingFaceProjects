{
 "cells": [
  {
   "cell_type": "code",
   "execution_count": null,
   "metadata": {},
   "outputs": [],
   "source": [
    "pip install sentence-transformers"
   ]
  },
  {
   "cell_type": "code",
   "execution_count": 2,
   "metadata": {},
   "outputs": [],
   "source": [
    "from transformers.utils import logging\n",
    "logging.set_verbosity_error()"
   ]
  },
  {
   "cell_type": "code",
   "execution_count": 3,
   "metadata": {},
   "outputs": [
    {
     "name": "stdout",
     "output_type": "stream",
     "text": [
      "WARNING:tensorflow:From c:\\Users\\drajo\\anaconda3\\envs\\med_label_analysis\\Lib\\site-packages\\tf_keras\\src\\losses.py:2976: The name tf.losses.sparse_softmax_cross_entropy is deprecated. Please use tf.compat.v1.losses.sparse_softmax_cross_entropy instead.\n",
      "\n"
     ]
    }
   ],
   "source": [
    "from sentence_transformers import SentenceTransformer"
   ]
  },
  {
   "cell_type": "code",
   "execution_count": 4,
   "metadata": {},
   "outputs": [
    {
     "data": {
      "application/vnd.jupyter.widget-view+json": {
       "model_id": "f4bb9fbcee9c48e78edf4df409cc173a",
       "version_major": 2,
       "version_minor": 0
      },
      "text/plain": [
       "modules.json:   0%|          | 0.00/349 [00:00<?, ?B/s]"
      ]
     },
     "metadata": {},
     "output_type": "display_data"
    },
    {
     "data": {
      "application/vnd.jupyter.widget-view+json": {
       "model_id": "44eba419d29b4d889700ed0ad24d3389",
       "version_major": 2,
       "version_minor": 0
      },
      "text/plain": [
       "config_sentence_transformers.json:   0%|          | 0.00/116 [00:00<?, ?B/s]"
      ]
     },
     "metadata": {},
     "output_type": "display_data"
    },
    {
     "data": {
      "application/vnd.jupyter.widget-view+json": {
       "model_id": "222ee9aa023e48c5a4ab4576b97ae128",
       "version_major": 2,
       "version_minor": 0
      },
      "text/plain": [
       "README.md:   0%|          | 0.00/10.7k [00:00<?, ?B/s]"
      ]
     },
     "metadata": {},
     "output_type": "display_data"
    },
    {
     "data": {
      "application/vnd.jupyter.widget-view+json": {
       "model_id": "125c1f8acc524c12a35e9d99b8da8bc0",
       "version_major": 2,
       "version_minor": 0
      },
      "text/plain": [
       "sentence_bert_config.json:   0%|          | 0.00/53.0 [00:00<?, ?B/s]"
      ]
     },
     "metadata": {},
     "output_type": "display_data"
    },
    {
     "data": {
      "application/vnd.jupyter.widget-view+json": {
       "model_id": "72c123431bc0403aa5de6c669888da60",
       "version_major": 2,
       "version_minor": 0
      },
      "text/plain": [
       "config.json:   0%|          | 0.00/612 [00:00<?, ?B/s]"
      ]
     },
     "metadata": {},
     "output_type": "display_data"
    },
    {
     "data": {
      "application/vnd.jupyter.widget-view+json": {
       "model_id": "ec99176426fb49c9b18a32f933b2338f",
       "version_major": 2,
       "version_minor": 0
      },
      "text/plain": [
       "model.safetensors:   0%|          | 0.00/90.9M [00:00<?, ?B/s]"
      ]
     },
     "metadata": {},
     "output_type": "display_data"
    },
    {
     "data": {
      "application/vnd.jupyter.widget-view+json": {
       "model_id": "dfc059d11d8845f8a2d1a5c59a054913",
       "version_major": 2,
       "version_minor": 0
      },
      "text/plain": [
       "tokenizer_config.json:   0%|          | 0.00/350 [00:00<?, ?B/s]"
      ]
     },
     "metadata": {},
     "output_type": "display_data"
    },
    {
     "data": {
      "application/vnd.jupyter.widget-view+json": {
       "model_id": "710e36c7d79a420d9728d539f1a148a7",
       "version_major": 2,
       "version_minor": 0
      },
      "text/plain": [
       "vocab.txt:   0%|          | 0.00/232k [00:00<?, ?B/s]"
      ]
     },
     "metadata": {},
     "output_type": "display_data"
    },
    {
     "data": {
      "application/vnd.jupyter.widget-view+json": {
       "model_id": "28cdd153252d4a849f8731e99b06ebc0",
       "version_major": 2,
       "version_minor": 0
      },
      "text/plain": [
       "tokenizer.json:   0%|          | 0.00/466k [00:00<?, ?B/s]"
      ]
     },
     "metadata": {},
     "output_type": "display_data"
    },
    {
     "data": {
      "application/vnd.jupyter.widget-view+json": {
       "model_id": "f442948c7477433e97bcd3ea759c4d62",
       "version_major": 2,
       "version_minor": 0
      },
      "text/plain": [
       "special_tokens_map.json:   0%|          | 0.00/112 [00:00<?, ?B/s]"
      ]
     },
     "metadata": {},
     "output_type": "display_data"
    },
    {
     "name": "stderr",
     "output_type": "stream",
     "text": [
      "c:\\Users\\drajo\\anaconda3\\envs\\med_label_analysis\\Lib\\site-packages\\transformers\\tokenization_utils_base.py:1601: FutureWarning: `clean_up_tokenization_spaces` was not set. It will be set to `True` by default. This behavior will be depracted in transformers v4.45, and will be then set to `False` by default. For more details check this issue: https://github.com/huggingface/transformers/issues/31884\n",
      "  warnings.warn(\n"
     ]
    },
    {
     "data": {
      "application/vnd.jupyter.widget-view+json": {
       "model_id": "de1d496fd7084a9487cf0d0e66011be4",
       "version_major": 2,
       "version_minor": 0
      },
      "text/plain": [
       "1_Pooling/config.json:   0%|          | 0.00/190 [00:00<?, ?B/s]"
      ]
     },
     "metadata": {},
     "output_type": "display_data"
    }
   ],
   "source": [
    "model = SentenceTransformer(\"all-MiniLM-L6-v2\")"
   ]
  },
  {
   "cell_type": "code",
   "execution_count": 5,
   "metadata": {},
   "outputs": [],
   "source": [
    "sentences1 = ['The cat sits outside',\n",
    "              'A man is playing guitar',\n",
    "              'The movies are awesome']"
   ]
  },
  {
   "cell_type": "code",
   "execution_count": 6,
   "metadata": {},
   "outputs": [],
   "source": [
    "embeddings1 = model.encode(sentences1, convert_to_tensor=True)"
   ]
  },
  {
   "cell_type": "code",
   "execution_count": 7,
   "metadata": {},
   "outputs": [
    {
     "data": {
      "text/plain": [
       "tensor([[ 0.1392,  0.0030,  0.0470,  ...,  0.0641, -0.0163,  0.0636],\n",
       "        [ 0.0227, -0.0014, -0.0056,  ..., -0.0225,  0.0846, -0.0283],\n",
       "        [-0.1043, -0.0628,  0.0093,  ...,  0.0020,  0.0653, -0.0150]])"
      ]
     },
     "execution_count": 7,
     "metadata": {},
     "output_type": "execute_result"
    }
   ],
   "source": [
    "embeddings1"
   ]
  },
  {
   "cell_type": "code",
   "execution_count": 8,
   "metadata": {},
   "outputs": [],
   "source": [
    "sentences2 = ['The dog plays in the garden',\n",
    "              'A woman watches TV',\n",
    "              'The new movie is so great']"
   ]
  },
  {
   "cell_type": "code",
   "execution_count": 9,
   "metadata": {},
   "outputs": [],
   "source": [
    "embeddings2 = model.encode(sentences2, \n",
    "                           convert_to_tensor=True)"
   ]
  },
  {
   "cell_type": "code",
   "execution_count": 10,
   "metadata": {},
   "outputs": [
    {
     "name": "stdout",
     "output_type": "stream",
     "text": [
      "tensor([[ 0.0163, -0.0700,  0.0384,  ...,  0.0447,  0.0254, -0.0023],\n",
      "        [ 0.0054, -0.0920,  0.0140,  ...,  0.0167, -0.0086, -0.0424],\n",
      "        [-0.0842, -0.0592, -0.0010,  ..., -0.0157,  0.0764,  0.0389]])\n"
     ]
    }
   ],
   "source": [
    "print(embeddings2)"
   ]
  },
  {
   "cell_type": "code",
   "execution_count": 11,
   "metadata": {},
   "outputs": [],
   "source": [
    "from sentence_transformers import util"
   ]
  },
  {
   "cell_type": "code",
   "execution_count": 12,
   "metadata": {},
   "outputs": [],
   "source": [
    "cosine_scores = util.cos_sim(embeddings1,embeddings2)"
   ]
  },
  {
   "cell_type": "code",
   "execution_count": 13,
   "metadata": {},
   "outputs": [
    {
     "name": "stdout",
     "output_type": "stream",
     "text": [
      "tensor([[ 0.2838,  0.1310, -0.0029],\n",
      "        [ 0.2277, -0.0327, -0.0136],\n",
      "        [-0.0124, -0.0465,  0.6571]])\n"
     ]
    }
   ],
   "source": [
    "print(cosine_scores)"
   ]
  },
  {
   "cell_type": "code",
   "execution_count": 14,
   "metadata": {},
   "outputs": [
    {
     "name": "stdout",
     "output_type": "stream",
     "text": [
      "The cat sits outside \t\t The dog plays in the garden \t\t Score: 0.2838\n",
      "A man is playing guitar \t\t A woman watches TV \t\t Score: -0.0327\n",
      "The movies are awesome \t\t The new movie is so great \t\t Score: 0.6571\n"
     ]
    }
   ],
   "source": [
    "for i in range(len(sentences1)):\n",
    "    print(\"{} \\t\\t {} \\t\\t Score: {:.4f}\".format(sentences1[i],\n",
    "                                                 sentences2[i],\n",
    "                                                 cosine_scores[i][i]))"
   ]
  },
  {
   "cell_type": "markdown",
   "metadata": {},
   "source": [
    "using radiological reporting texts"
   ]
  },
  {
   "cell_type": "code",
   "execution_count": null,
   "metadata": {},
   "outputs": [],
   "source": []
  },
  {
   "cell_type": "code",
   "execution_count": 18,
   "metadata": {},
   "outputs": [],
   "source": [
    "sentences1 =['Periapical rarefying osteitis of 24 region',\n",
    "              'abscess/granuloma',\n",
    "              'caries is present in 24']"
   ]
  },
  {
   "cell_type": "code",
   "execution_count": 19,
   "metadata": {},
   "outputs": [],
   "source": [
    "embeddings1 = model.encode(sentences1, convert_to_tensor=True)"
   ]
  },
  {
   "cell_type": "code",
   "execution_count": 17,
   "metadata": {},
   "outputs": [
    {
     "data": {
      "text/plain": [
       "tensor([[-1.3892e-02, -2.0152e-02,  7.2441e-03, -1.1775e-02, -6.6319e-02,\n",
       "         -6.4988e-02, -9.6055e-03,  7.4716e-02,  2.8900e-02, -9.2711e-03,\n",
       "         -1.4280e-02, -1.1309e-02,  1.1585e-01, -2.9503e-03, -1.0235e-01,\n",
       "         -4.1279e-03,  2.2391e-02, -2.2017e-02, -9.3927e-03,  2.2402e-02,\n",
       "          2.5287e-02,  2.3234e-02,  2.8970e-02, -1.0572e-01, -1.6649e-02,\n",
       "         -2.5916e-02,  3.3991e-02,  6.0555e-02,  1.9073e-02,  2.3122e-02,\n",
       "         -4.8298e-02,  9.7899e-02,  5.1891e-02, -4.6882e-02,  1.3072e-01,\n",
       "         -2.8864e-02, -3.5997e-02, -2.4004e-02,  5.8333e-02,  7.0087e-02,\n",
       "         -4.0544e-03, -4.3486e-02,  1.3473e-02, -7.0074e-03, -4.7794e-02,\n",
       "          5.1539e-03,  4.3424e-02,  5.6878e-02,  9.4367e-02, -5.0683e-02,\n",
       "          4.9912e-02, -9.7580e-03,  2.6757e-02, -4.6960e-03, -5.0285e-02,\n",
       "         -3.4145e-02, -5.5744e-02, -6.6313e-02, -4.6098e-02,  7.8716e-03,\n",
       "          2.2801e-02, -1.5191e-02,  4.4282e-02, -1.2722e-03,  3.5965e-02,\n",
       "         -3.3909e-02,  4.1349e-02, -4.1571e-02, -8.0143e-04, -1.5039e-02,\n",
       "          8.0872e-02, -1.4328e-02,  5.8986e-02, -1.6192e-02, -4.0892e-02,\n",
       "          1.6881e-03,  3.9106e-02, -6.5501e-02,  2.4172e-02,  4.0625e-03,\n",
       "         -6.7413e-02,  2.9286e-02,  2.9743e-02, -1.3513e-02,  7.8860e-04,\n",
       "         -8.3013e-02,  9.7772e-02,  8.9142e-03, -6.5559e-03, -1.3073e-02,\n",
       "         -1.7409e-02,  2.1203e-02, -1.1971e-02, -9.4494e-05,  5.3470e-02,\n",
       "          1.0461e-01,  2.8748e-02, -2.7870e-02,  7.3143e-03,  1.3565e-02,\n",
       "         -7.0551e-02, -4.2243e-02,  2.0552e-01,  4.4371e-02,  7.4081e-02,\n",
       "         -6.8270e-02, -7.2297e-02,  4.4400e-03, -2.9379e-04, -5.9694e-02,\n",
       "          1.5981e-02,  1.7803e-02,  4.8092e-02,  1.6119e-02, -5.7966e-03,\n",
       "         -4.4607e-02,  1.1804e-01, -1.5180e-02, -2.9486e-02, -3.8947e-02,\n",
       "         -5.8765e-02, -3.7009e-03, -5.6790e-02,  1.3317e-02,  7.0066e-02,\n",
       "         -3.5349e-02, -3.4791e-02,  1.3592e-33, -1.7264e-02, -6.3179e-02,\n",
       "         -2.7619e-02, -6.0008e-02, -3.5620e-02,  8.0329e-02, -5.5661e-03,\n",
       "         -2.0387e-02,  4.4246e-03,  6.6767e-02,  5.3451e-02,  4.3608e-02,\n",
       "          9.7880e-02, -4.5726e-02,  7.4651e-04,  6.8003e-02,  4.5821e-02,\n",
       "         -4.6164e-02, -5.0981e-02, -3.0569e-02,  5.0923e-02,  1.0571e-01,\n",
       "         -2.0745e-02, -3.7267e-02, -1.0519e-02,  2.3358e-02,  3.6245e-02,\n",
       "         -1.1426e-01,  1.0293e-01, -7.7238e-02,  5.7982e-02,  6.6450e-02,\n",
       "          3.7907e-02, -3.0289e-02, -5.1151e-02, -6.0587e-03, -2.5476e-03,\n",
       "          7.5643e-02, -6.1385e-02, -1.1668e-02,  3.7151e-03,  2.1919e-03,\n",
       "          4.1814e-02, -4.0281e-02,  9.6027e-02, -2.2715e-02, -6.6102e-02,\n",
       "          1.0745e-01, -3.5193e-02,  1.3397e-02,  7.1792e-02,  6.5681e-02,\n",
       "          2.7501e-03, -8.8712e-02, -5.2045e-02, -6.5377e-02, -1.6526e-02,\n",
       "          2.0835e-03,  3.8685e-02,  1.6872e-02,  9.6540e-02, -7.9786e-02,\n",
       "          4.7962e-03,  5.2686e-02,  8.3133e-03, -1.1906e-01, -7.1354e-03,\n",
       "          2.6858e-02,  1.9498e-02,  4.7255e-02,  2.5895e-03,  3.6066e-02,\n",
       "          4.8413e-02,  2.2649e-02, -4.4225e-02, -2.9858e-02,  4.3996e-02,\n",
       "          1.4626e-02,  1.2923e-02, -1.5100e-02, -8.4489e-02, -2.0795e-03,\n",
       "          8.4810e-02,  2.6281e-02, -2.7693e-02,  6.2656e-02, -8.2644e-02,\n",
       "          3.2129e-02,  1.3849e-04,  8.3363e-03,  2.1538e-02,  1.7924e-02,\n",
       "         -1.5949e-01,  7.8604e-02, -8.0823e-02, -2.2519e-33,  5.7268e-02,\n",
       "         -2.8999e-02, -1.0608e-02,  1.4200e-02,  5.3371e-02,  2.5110e-02,\n",
       "         -3.9026e-02,  1.0099e-01, -1.0893e-01, -2.7305e-02,  3.2819e-02,\n",
       "          5.9104e-04, -3.1502e-03, -1.5582e-02, -2.7246e-02,  8.4146e-02,\n",
       "         -7.4412e-02,  6.7685e-02, -9.9794e-02,  5.0422e-02,  1.8242e-02,\n",
       "          5.9029e-02,  1.5433e-02, -2.0708e-02,  1.4711e-02, -1.0930e-02,\n",
       "          3.1209e-02, -6.9900e-02, -1.9168e-01,  9.2160e-02,  3.2248e-02,\n",
       "          3.7518e-02,  1.7812e-02, -1.1274e-01, -8.5980e-03, -2.1918e-02,\n",
       "          3.8623e-02, -7.4604e-02, -4.0813e-02,  5.5790e-03, -2.4941e-02,\n",
       "         -3.0272e-02,  4.1308e-02, -2.2438e-03, -2.6404e-02,  8.1508e-02,\n",
       "         -5.5638e-03, -1.4609e-02,  3.7968e-02, -2.7650e-02,  2.6276e-02,\n",
       "         -4.3192e-02,  4.7973e-02, -3.1143e-04,  3.5814e-02,  5.8137e-04,\n",
       "         -6.7564e-02, -1.0392e-01, -1.5672e-02,  1.1203e-02,  1.7696e-02,\n",
       "         -2.1990e-02,  4.9395e-03, -6.8054e-02,  7.2185e-02,  1.0724e-01,\n",
       "         -4.8974e-02, -1.8373e-03, -4.6786e-02, -1.6162e-02, -4.0453e-02,\n",
       "         -1.3735e-03, -7.4074e-02, -3.0513e-02,  4.2534e-02,  1.5819e-02,\n",
       "          4.8414e-02, -1.5495e-02,  4.0754e-02,  9.9239e-03, -7.7078e-03,\n",
       "         -2.4679e-02,  9.0654e-03, -2.0111e-03, -5.4687e-02, -1.6867e-02,\n",
       "          6.9145e-02, -4.2832e-02,  2.9117e-03, -2.8307e-02,  5.0852e-02,\n",
       "          8.9869e-02,  2.0191e-02, -6.0680e-02,  1.7740e-03, -2.2186e-08,\n",
       "          1.9148e-03,  7.3642e-03, -4.7048e-02, -8.0088e-03,  2.3622e-02,\n",
       "         -1.4240e-02, -9.1924e-02,  3.4491e-02,  9.0852e-02,  2.3830e-02,\n",
       "         -4.2054e-02, -5.3450e-02, -7.1847e-02, -6.9631e-02,  1.2987e-02,\n",
       "          2.8142e-03,  2.2986e-02, -4.6871e-02, -2.4020e-03, -4.3411e-02,\n",
       "         -4.7195e-02, -1.7230e-02,  6.8203e-02, -2.7873e-03,  1.8536e-02,\n",
       "         -1.8809e-03, -1.1548e-02, -2.0518e-03, -2.8058e-02,  5.8213e-02,\n",
       "         -1.8245e-02, -1.6174e-02, -1.3083e-02, -6.4308e-02, -4.6894e-02,\n",
       "          6.8221e-03,  7.0479e-02, -1.1977e-01, -2.6560e-02, -3.2106e-02,\n",
       "          6.6764e-02, -7.0621e-02,  5.2509e-02, -4.1099e-02, -8.4871e-02,\n",
       "         -2.0425e-02, -7.6164e-02,  1.3728e-03,  7.0656e-02, -7.5476e-02,\n",
       "          4.0435e-02, -4.0504e-02,  4.7695e-02,  3.1804e-02, -3.7304e-02,\n",
       "          3.7725e-02,  7.4583e-02, -3.4185e-02,  3.9935e-02,  7.0387e-02,\n",
       "         -1.2660e-02, -2.6699e-02,  3.1102e-02,  5.4138e-02]])"
      ]
     },
     "execution_count": 17,
     "metadata": {},
     "output_type": "execute_result"
    }
   ],
   "source": [
    "embeddings1"
   ]
  },
  {
   "cell_type": "code",
   "execution_count": 28,
   "metadata": {},
   "outputs": [],
   "source": [
    "sentences2 = ['periapical pathology is present',\n",
    "              'The decays are present',\n",
    "              'the tooth is 24']"
   ]
  },
  {
   "cell_type": "code",
   "execution_count": 29,
   "metadata": {},
   "outputs": [],
   "source": [
    "embeddings2 = model.encode(sentences2, \n",
    "                           convert_to_tensor=True)"
   ]
  },
  {
   "cell_type": "code",
   "execution_count": 30,
   "metadata": {},
   "outputs": [
    {
     "name": "stdout",
     "output_type": "stream",
     "text": [
      "tensor([[ 0.0406, -0.0170, -0.0201,  ...,  0.0451,  0.0637, -0.0309],\n",
      "        [-0.0678,  0.0080,  0.0207,  ..., -0.1050,  0.1208,  0.0297],\n",
      "        [-0.0090,  0.0372, -0.0340,  ..., -0.0525,  0.0875,  0.0036]])\n"
     ]
    }
   ],
   "source": [
    "print(embeddings2)"
   ]
  },
  {
   "cell_type": "code",
   "execution_count": 31,
   "metadata": {},
   "outputs": [],
   "source": [
    "from sentence_transformers import util"
   ]
  },
  {
   "cell_type": "code",
   "execution_count": 32,
   "metadata": {},
   "outputs": [],
   "source": [
    "cosine_scores = util.cos_sim(embeddings1,embeddings2)"
   ]
  },
  {
   "cell_type": "code",
   "execution_count": 33,
   "metadata": {},
   "outputs": [
    {
     "name": "stdout",
     "output_type": "stream",
     "text": [
      "tensor([[ 0.5936, -0.0628,  0.2454],\n",
      "        [ 0.4183,  0.0671,  0.1320],\n",
      "        [ 0.0990,  0.1806,  0.6029]])\n"
     ]
    }
   ],
   "source": [
    "print(cosine_scores)"
   ]
  },
  {
   "cell_type": "code",
   "execution_count": 34,
   "metadata": {},
   "outputs": [
    {
     "name": "stdout",
     "output_type": "stream",
     "text": [
      "Periapical rarefying osteitis of 24 region \t\t periapical pathology is present \t\t Score: 0.5936\n",
      "abscess/granuloma \t\t The decays are present \t\t Score: 0.0671\n",
      "caries is present in 24 \t\t the tooth is 24 \t\t Score: 0.6029\n"
     ]
    }
   ],
   "source": [
    "for i in range(len(sentences1)):\n",
    "    print(\"{} \\t\\t {} \\t\\t Score: {:.4f}\".format(sentences1[i],\n",
    "                                                 sentences2[i],\n",
    "                                                 cosine_scores[i][i]))"
   ]
  },
  {
   "cell_type": "code",
   "execution_count": null,
   "metadata": {},
   "outputs": [],
   "source": []
  }
 ],
 "metadata": {
  "kernelspec": {
   "display_name": "med_label_analysis",
   "language": "python",
   "name": "python3"
  },
  "language_info": {
   "codemirror_mode": {
    "name": "ipython",
    "version": 3
   },
   "file_extension": ".py",
   "mimetype": "text/x-python",
   "name": "python",
   "nbconvert_exporter": "python",
   "pygments_lexer": "ipython3",
   "version": "3.12.0"
  }
 },
 "nbformat": 4,
 "nbformat_minor": 2
}
